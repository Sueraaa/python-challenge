{
 "cells": [
  {
   "cell_type": "code",
   "execution_count": 6,
   "id": "e2b49a56-cd35-4134-aa42-7f7dc82fa956",
   "metadata": {
    "tags": []
   },
   "outputs": [
    {
     "name": "stdout",
     "output_type": "stream",
     "text": [
      "Election Results\n",
      "--------------------\n",
      "Total Votes: 369711\n",
      "--------------------\n",
      "Charles Casper Stockham: 23.05% (85213 votes)\n",
      "Diana DeGette: 73.81% (272892 votes)\n",
      "Raymon Anthony Doane: 3.14% (11606 votes)\n",
      "------------------\n",
      "Winner: Diana DeGette\n",
      "------------------\n"
     ]
    }
   ],
   "source": [
    "import os\n",
    "import csv\n",
    "\n",
    "# Path to collect data from the Resources folder\n",
    "csv_file_path = os.path.join('Resources', 'election_data.csv')\n",
    "\n",
    "# Define the function\n",
    "def calculate_values(file_path):\n",
    "    total_votes = 0\n",
    "    candidates_votes = {}\n",
    "\n",
    "    # Read in the CSV file\n",
    "    with open(file_path, 'r') as csv_file:\n",
    "        \n",
    "        # Split the data on commas\n",
    "        csv_reader = csv.reader(csv_file, delimiter=',')\n",
    "        \n",
    "        # Skip the header row\n",
    "        header = next(csv_reader)  \n",
    "        \n",
    "        # Loop through the data\n",
    "        for row in csv_reader:\n",
    "            \n",
    "            # Split the line into Ballot_ID, County, and Candidate\n",
    "            ballot_id = row[0]\n",
    "            county = str(row[1])\n",
    "            candidate= str(row[2])\n",
    "            \n",
    "            \n",
    "            # Increment the total_votes\n",
    "            total_votes += 1\n",
    "            # increments the vote count for a particular candidate\n",
    "            candidates_votes[candidate] = candidates_votes.get(candidate, 0) + 1\n",
    "    \n",
    "     #print results\n",
    "    print(\"Election Results\")\n",
    "    print(\"--------------------\")\n",
    "    print(f\"Total Votes: {total_votes}\")\n",
    "    print(\"--------------------\")\n",
    "    \n",
    "    # Iterate through the candidates_votes dictionary\n",
    "    for candidate, votes in candidates_votes.items():\n",
    "    # Calculate the percentage of votes for the current candidate\n",
    "        percentage = (votes / total_votes) * 100\n",
    "         #print the result with the votes count\n",
    "        print(f\"{candidate}: {percentage:.2f}% ({votes} votes)\")\n",
    "        \n",
    "    # Determine the winner based on popular vote\n",
    "    winner = max(candidates_votes, key = candidates_votes.get)\n",
    "    print(\"------------------\")\n",
    "    print(f\"Winner: {winner}\")\n",
    "    print(\"------------------\")\n",
    "\n",
    "\n",
    "#Call the function\n",
    "calculate_values(csv_file_path)\n"
   ]
  },
  {
   "cell_type": "code",
   "execution_count": null,
   "id": "792c0ff1-4e11-4311-a190-f3736f6daa8a",
   "metadata": {},
   "outputs": [],
   "source": []
  }
 ],
 "metadata": {
  "kernelspec": {
   "display_name": "Python 3 (ipykernel)",
   "language": "python",
   "name": "python3"
  },
  "language_info": {
   "codemirror_mode": {
    "name": "ipython",
    "version": 3
   },
   "file_extension": ".py",
   "mimetype": "text/x-python",
   "name": "python",
   "nbconvert_exporter": "python",
   "pygments_lexer": "ipython3",
   "version": "3.11.5"
  }
 },
 "nbformat": 4,
 "nbformat_minor": 5
}
